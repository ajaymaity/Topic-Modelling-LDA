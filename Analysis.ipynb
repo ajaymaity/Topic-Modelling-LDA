{
 "cells": [
  {
   "cell_type": "code",
   "execution_count": 3,
   "metadata": {},
   "outputs": [],
   "source": [
    "# Import statements\n",
    "import pandas as pd"
   ]
  },
  {
   "cell_type": "code",
   "execution_count": 9,
   "metadata": {},
   "outputs": [
    {
     "name": "stdout",
     "output_type": "stream",
     "text": [
      "1103665\n",
      "                                       headline_text  index\n",
      "0  aba decides against community broadcasting lic...      0\n",
      "1     act fire witnesses must be aware of defamation      1\n",
      "2     a g calls for infrastructure protection summit      2\n",
      "3           air nz staff in aust strike for pay rise      3\n",
      "4      air nz strike to affect australian travellers      4\n"
     ]
    }
   ],
   "source": [
    "data = pd.read_csv('million-headlines/abcnews-date-text.csv', error_bad_lines=False, engine='python');\n",
    "data_text = data[['headline_text']]\n",
    "data_text['index'] = data_text.index\n",
    "documents = data_text\n",
    "print(len(documents))\n",
    "print(documents[:5])"
   ]
  },
  {
   "cell_type": "code",
   "execution_count": 23,
   "metadata": {},
   "outputs": [
    {
     "name": "stdout",
     "output_type": "stream",
     "text": [
      "[nltk_data] Downloading package wordnet to\n",
      "[nltk_data]     C:\\Users\\ajay2\\AppData\\Roaming\\nltk_data...\n",
      "[nltk_data]   Package wordnet is already up-to-date!\n"
     ]
    }
   ],
   "source": [
    "import gensim\n",
    "from gensim.utils import simple_preprocess\n",
    "from gensim.parsing.preprocessing import STOPWORDS\n",
    "from nltk.stem import WordNetLemmatizer, SnowballStemmer\n",
    "from nltk.stem.porter import *\n",
    "import numpy as np\n",
    "np.random.seed(2018)\n",
    "import nltk\n",
    "nltk.download('wordnet')\n",
    "stemmer = SnowballStemmer(\"english\")"
   ]
  },
  {
   "cell_type": "code",
   "execution_count": 25,
   "metadata": {},
   "outputs": [],
   "source": [
    "def lemmatize_stemming(text):\n",
    "    return stemmer.stem(WordNetLemmatizer().lemmatize(text, pos='v'))\n",
    "\n",
    "def preprocess(text):\n",
    "    result = []\n",
    "    for token in gensim.utils.simple_preprocess(text):\n",
    "        if token not in gensim.parsing.preprocessing.STOPWORDS and len(token) > 3:\n",
    "            result.append(lemmatize_stemming(token))\n",
    "    return result"
   ]
  },
  {
   "cell_type": "code",
   "execution_count": 26,
   "metadata": {},
   "outputs": [
    {
     "name": "stdout",
     "output_type": "stream",
     "text": [
      "original document: \n",
      "['rain', 'helps', 'dampen', 'bushfires']\n",
      "\n",
      "\n",
      " tokenized and lemmatized document: \n",
      "['rain', 'help', 'dampen', 'bushfir']\n"
     ]
    }
   ],
   "source": [
    "doc_sample = documents[documents['index'] == 4310].values[0][0]\n",
    "print('original document: ')\n",
    "words = []\n",
    "for word in doc_sample.split(' '):\n",
    "    words.append(word)\n",
    "print(words)\n",
    "print('\\n\\n tokenized and lemmatized document: ')\n",
    "print(preprocess(doc_sample))"
   ]
  },
  {
   "cell_type": "code",
   "execution_count": 27,
   "metadata": {},
   "outputs": [
    {
     "data": {
      "text/plain": [
       "0            [decid, communiti, broadcast, licenc]\n",
       "1                               [wit, awar, defam]\n",
       "2           [call, infrastructur, protect, summit]\n",
       "3                      [staff, aust, strike, rise]\n",
       "4             [strike, affect, australian, travel]\n",
       "5               [ambiti, olsson, win, tripl, jump]\n",
       "6           [antic, delight, record, break, barca]\n",
       "7    [aussi, qualifi, stosur, wast, memphi, match]\n",
       "8            [aust, address, secur, council, iraq]\n",
       "9                         [australia, lock, timet]\n",
       "Name: headline_text, dtype: object"
      ]
     },
     "execution_count": 27,
     "metadata": {},
     "output_type": "execute_result"
    }
   ],
   "source": [
    "processed_docs = documents['headline_text'].map(preprocess)\n",
    "processed_docs[:10]"
   ]
  },
  {
   "cell_type": "code",
   "execution_count": 28,
   "metadata": {},
   "outputs": [
    {
     "name": "stdout",
     "output_type": "stream",
     "text": [
      "0 broadcast\n",
      "1 communiti\n",
      "2 decid\n",
      "3 licenc\n",
      "4 awar\n",
      "5 defam\n",
      "6 wit\n",
      "7 call\n",
      "8 infrastructur\n",
      "9 protect\n",
      "10 summit\n"
     ]
    }
   ],
   "source": [
    "dictionary = gensim.corpora.Dictionary(processed_docs)\n",
    "\n",
    "count = 0\n",
    "for k, v in dictionary.iteritems():\n",
    "    print(k, v)\n",
    "    count += 1\n",
    "    if count > 10:\n",
    "        break"
   ]
  },
  {
   "cell_type": "code",
   "execution_count": 29,
   "metadata": {},
   "outputs": [],
   "source": [
    "dictionary.filter_extremes(no_below=15, no_above=0.5, keep_n=100000)"
   ]
  },
  {
   "cell_type": "code",
   "execution_count": 30,
   "metadata": {},
   "outputs": [
    {
     "data": {
      "text/plain": [
       "[(76, 1), (112, 1), (483, 1), (4014, 1)]"
      ]
     },
     "execution_count": 30,
     "metadata": {},
     "output_type": "execute_result"
    }
   ],
   "source": [
    "bow_corpus = [dictionary.doc2bow(doc) for doc in processed_docs]\n",
    "bow_corpus[4310]"
   ]
  },
  {
   "cell_type": "code",
   "execution_count": 34,
   "metadata": {},
   "outputs": [
    {
     "name": "stdout",
     "output_type": "stream",
     "text": [
      "Word 76 (\"bushfir\") appears 1 time.\n",
      "Word 112 (\"help\") appears 1 time.\n",
      "Word 483 (\"rain\") appears 1 time.\n",
      "Word 4014 (\"dampen\") appears 1 time.\n"
     ]
    }
   ],
   "source": [
    "bow_doc_4310 = bow_corpus[4310]\n",
    "for i in range(len(bow_doc_4310)):\n",
    "    print(\"Word {} (\\\"{}\\\") appears {} time.\".format(bow_doc_4310[i][0], \n",
    "                                               dictionary[bow_doc_4310[i][0]], \n",
    "                                               bow_doc_4310[i][1]))"
   ]
  },
  {
   "cell_type": "code",
   "execution_count": 35,
   "metadata": {},
   "outputs": [
    {
     "name": "stdout",
     "output_type": "stream",
     "text": [
      "[(0, 0.5892908644709983),\n",
      " (1, 0.38929657403503015),\n",
      " (2, 0.4964985198530063),\n",
      " (3, 0.5046520328695662)]\n"
     ]
    }
   ],
   "source": [
    "from gensim import corpora, models\n",
    "tfidf = models.TfidfModel(bow_corpus)\n",
    "corpus_tfidf = tfidf[bow_corpus]\n",
    "\n",
    "from pprint import pprint\n",
    "for doc in corpus_tfidf:\n",
    "    pprint(doc)\n",
    "    break"
   ]
  },
  {
   "cell_type": "code",
   "execution_count": 42,
   "metadata": {},
   "outputs": [],
   "source": [
    "lda_model = gensim.models.LdaMulticore(bow_corpus, num_topics=10, id2word=dictionary, passes=2, workers=2) # TAKES TIME"
   ]
  },
  {
   "cell_type": "code",
   "execution_count": 43,
   "metadata": {},
   "outputs": [
    {
     "name": "stdout",
     "output_type": "stream",
     "text": [
      "Topic: 0 \n",
      "Words: 0.028*\"elect\" + 0.019*\"say\" + 0.018*\"death\" + 0.016*\"hospit\" + 0.015*\"tasmanian\" + 0.014*\"labor\" + 0.013*\"deal\" + 0.012*\"china\" + 0.011*\"polit\" + 0.011*\"talk\"\n",
      "Topic: 1 \n",
      "Words: 0.019*\"nation\" + 0.018*\"coast\" + 0.016*\"help\" + 0.016*\"countri\" + 0.015*\"state\" + 0.015*\"health\" + 0.014*\"chang\" + 0.013*\"hour\" + 0.013*\"indigen\" + 0.012*\"water\"\n",
      "Topic: 2 \n",
      "Words: 0.020*\"canberra\" + 0.018*\"market\" + 0.014*\"rise\" + 0.014*\"west\" + 0.014*\"turnbul\" + 0.014*\"australian\" + 0.013*\"price\" + 0.013*\"share\" + 0.011*\"bank\" + 0.010*\"week\"\n",
      "Topic: 3 \n",
      "Words: 0.063*\"polic\" + 0.023*\"crash\" + 0.019*\"interview\" + 0.018*\"miss\" + 0.018*\"shoot\" + 0.016*\"arrest\" + 0.015*\"investig\" + 0.013*\"driver\" + 0.011*\"search\" + 0.011*\"offic\"\n",
      "Topic: 4 \n",
      "Words: 0.029*\"charg\" + 0.028*\"court\" + 0.021*\"murder\" + 0.018*\"woman\" + 0.018*\"face\" + 0.016*\"brisban\" + 0.015*\"live\" + 0.015*\"jail\" + 0.014*\"year\" + 0.014*\"perth\"\n",
      "Topic: 5 \n",
      "Words: 0.035*\"australia\" + 0.022*\"melbourn\" + 0.021*\"world\" + 0.017*\"open\" + 0.014*\"final\" + 0.013*\"donald\" + 0.012*\"sydney\" + 0.010*\"leagu\" + 0.010*\"take\" + 0.010*\"road\"\n",
      "Topic: 6 \n",
      "Words: 0.026*\"south\" + 0.025*\"kill\" + 0.015*\"island\" + 0.013*\"fall\" + 0.011*\"attack\" + 0.010*\"forc\" + 0.009*\"shark\" + 0.009*\"east\" + 0.007*\"northern\" + 0.007*\"bring\"\n",
      "Topic: 7 \n",
      "Words: 0.019*\"council\" + 0.015*\"power\" + 0.013*\"farmer\" + 0.011*\"guilti\" + 0.010*\"christma\" + 0.010*\"region\" + 0.010*\"feder\" + 0.009*\"program\" + 0.009*\"industri\" + 0.009*\"research\"\n",
      "Topic: 8 \n",
      "Words: 0.037*\"trump\" + 0.032*\"australian\" + 0.019*\"queensland\" + 0.014*\"leav\" + 0.014*\"australia\" + 0.012*\"meet\" + 0.011*\"show\" + 0.011*\"royal\" + 0.011*\"say\" + 0.010*\"game\"\n",
      "Topic: 9 \n",
      "Words: 0.036*\"govern\" + 0.022*\"test\" + 0.018*\"rural\" + 0.015*\"break\" + 0.012*\"news\" + 0.011*\"school\" + 0.011*\"violenc\" + 0.010*\"busi\" + 0.010*\"say\" + 0.009*\"worker\"\n"
     ]
    }
   ],
   "source": [
    "for idx, topic in lda_model.print_topics(-1):\n",
    "    print('Topic: {} \\nWords: {}'.format(idx, topic))"
   ]
  },
  {
   "cell_type": "code",
   "execution_count": 44,
   "metadata": {},
   "outputs": [],
   "source": [
    "lda_model_tfidf = gensim.models.LdaMulticore(corpus_tfidf, num_topics=10, id2word=dictionary, passes=2, workers=4) # TAKES TIME"
   ]
  },
  {
   "cell_type": "code",
   "execution_count": 45,
   "metadata": {},
   "outputs": [
    {
     "name": "stdout",
     "output_type": "stream",
     "text": [
      "Topic: 0 Word: 0.014*\"polic\" + 0.013*\"crash\" + 0.012*\"kill\" + 0.010*\"woman\" + 0.009*\"death\" + 0.009*\"shoot\" + 0.008*\"dead\" + 0.008*\"drum\" + 0.008*\"charg\" + 0.008*\"attack\"\n",
      "Topic: 1 Word: 0.012*\"weather\" + 0.008*\"friday\" + 0.006*\"june\" + 0.005*\"bash\" + 0.005*\"syrian\" + 0.005*\"memori\" + 0.005*\"harvest\" + 0.005*\"billion\" + 0.004*\"mount\" + 0.004*\"run\"\n",
      "Topic: 2 Word: 0.010*\"rural\" + 0.010*\"govern\" + 0.007*\"elect\" + 0.006*\"fund\" + 0.006*\"nation\" + 0.006*\"budget\" + 0.006*\"plan\" + 0.005*\"queensland\" + 0.005*\"labor\" + 0.005*\"council\"\n",
      "Topic: 3 Word: 0.024*\"countri\" + 0.022*\"hour\" + 0.011*\"turnbul\" + 0.008*\"north\" + 0.008*\"sport\" + 0.007*\"korea\" + 0.007*\"david\" + 0.006*\"south\" + 0.006*\"august\" + 0.006*\"search\"\n",
      "Topic: 4 Word: 0.010*\"grandstand\" + 0.007*\"tuesday\" + 0.006*\"dollar\" + 0.005*\"million\" + 0.005*\"blog\" + 0.005*\"say\" + 0.005*\"live\" + 0.005*\"station\" + 0.005*\"footag\" + 0.005*\"dump\"\n",
      "Topic: 5 Word: 0.019*\"trump\" + 0.010*\"court\" + 0.010*\"podcast\" + 0.009*\"charg\" + 0.009*\"donald\" + 0.008*\"drug\" + 0.007*\"murder\" + 0.007*\"child\" + 0.007*\"stab\" + 0.006*\"alleg\"\n",
      "Topic: 6 Word: 0.010*\"final\" + 0.009*\"world\" + 0.009*\"leagu\" + 0.008*\"australia\" + 0.006*\"test\" + 0.006*\"beat\" + 0.006*\"open\" + 0.005*\"rugbi\" + 0.005*\"cricket\" + 0.005*\"win\"\n",
      "Topic: 7 Word: 0.010*\"royal\" + 0.007*\"christma\" + 0.007*\"juli\" + 0.007*\"commiss\" + 0.006*\"toni\" + 0.006*\"michael\" + 0.005*\"care\" + 0.005*\"updat\" + 0.004*\"breakfast\" + 0.004*\"age\"\n",
      "Topic: 8 Word: 0.014*\"interview\" + 0.014*\"market\" + 0.014*\"news\" + 0.009*\"share\" + 0.007*\"plead\" + 0.006*\"mother\" + 0.006*\"novemb\" + 0.006*\"price\" + 0.006*\"sexual\" + 0.006*\"cattl\"\n",
      "Topic: 9 Word: 0.009*\"farm\" + 0.007*\"marriag\" + 0.006*\"octob\" + 0.006*\"hobart\" + 0.006*\"peter\" + 0.006*\"thursday\" + 0.005*\"april\" + 0.005*\"wrap\" + 0.005*\"social\" + 0.004*\"wind\"\n"
     ]
    }
   ],
   "source": [
    "for idx, topic in lda_model_tfidf.print_topics(-1):\n",
    "    print('Topic: {} Word: {}'.format(idx, topic))"
   ]
  },
  {
   "cell_type": "code",
   "execution_count": 51,
   "metadata": {},
   "outputs": [
    {
     "data": {
      "text/plain": [
       "['rain', 'help', 'dampen', 'bushfir']"
      ]
     },
     "execution_count": 51,
     "metadata": {},
     "output_type": "execute_result"
    }
   ],
   "source": [
    "processed_docs[4310]"
   ]
  },
  {
   "cell_type": "code",
   "execution_count": 49,
   "metadata": {},
   "outputs": [
    {
     "name": "stdout",
     "output_type": "stream",
     "text": [
      "\n",
      "Score: 0.4199989438056946\t \n",
      "Topic: 0.026*\"south\" + 0.025*\"kill\" + 0.015*\"island\" + 0.013*\"fall\" + 0.011*\"attack\" + 0.010*\"forc\" + 0.009*\"shark\" + 0.009*\"east\" + 0.007*\"northern\" + 0.007*\"bring\"\n",
      "\n",
      "Score: 0.2200000286102295\t \n",
      "Topic: 0.019*\"nation\" + 0.018*\"coast\" + 0.016*\"help\" + 0.016*\"countri\" + 0.015*\"state\" + 0.015*\"health\" + 0.014*\"chang\" + 0.013*\"hour\" + 0.013*\"indigen\" + 0.012*\"water\"\n",
      "\n",
      "Score: 0.2199999988079071\t \n",
      "Topic: 0.035*\"australia\" + 0.022*\"melbourn\" + 0.021*\"world\" + 0.017*\"open\" + 0.014*\"final\" + 0.013*\"donald\" + 0.012*\"sydney\" + 0.010*\"leagu\" + 0.010*\"take\" + 0.010*\"road\"\n",
      "\n",
      "Score: 0.02000104822218418\t \n",
      "Topic: 0.019*\"council\" + 0.015*\"power\" + 0.013*\"farmer\" + 0.011*\"guilti\" + 0.010*\"christma\" + 0.010*\"region\" + 0.010*\"feder\" + 0.009*\"program\" + 0.009*\"industri\" + 0.009*\"research\"\n",
      "\n",
      "Score: 0.019999999552965164\t \n",
      "Topic: 0.028*\"elect\" + 0.019*\"say\" + 0.018*\"death\" + 0.016*\"hospit\" + 0.015*\"tasmanian\" + 0.014*\"labor\" + 0.013*\"deal\" + 0.012*\"china\" + 0.011*\"polit\" + 0.011*\"talk\"\n",
      "\n",
      "Score: 0.019999999552965164\t \n",
      "Topic: 0.020*\"canberra\" + 0.018*\"market\" + 0.014*\"rise\" + 0.014*\"west\" + 0.014*\"turnbul\" + 0.014*\"australian\" + 0.013*\"price\" + 0.013*\"share\" + 0.011*\"bank\" + 0.010*\"week\"\n",
      "\n",
      "Score: 0.019999999552965164\t \n",
      "Topic: 0.063*\"polic\" + 0.023*\"crash\" + 0.019*\"interview\" + 0.018*\"miss\" + 0.018*\"shoot\" + 0.016*\"arrest\" + 0.015*\"investig\" + 0.013*\"driver\" + 0.011*\"search\" + 0.011*\"offic\"\n",
      "\n",
      "Score: 0.019999999552965164\t \n",
      "Topic: 0.029*\"charg\" + 0.028*\"court\" + 0.021*\"murder\" + 0.018*\"woman\" + 0.018*\"face\" + 0.016*\"brisban\" + 0.015*\"live\" + 0.015*\"jail\" + 0.014*\"year\" + 0.014*\"perth\"\n",
      "\n",
      "Score: 0.019999999552965164\t \n",
      "Topic: 0.037*\"trump\" + 0.032*\"australian\" + 0.019*\"queensland\" + 0.014*\"leav\" + 0.014*\"australia\" + 0.012*\"meet\" + 0.011*\"show\" + 0.011*\"royal\" + 0.011*\"say\" + 0.010*\"game\"\n",
      "\n",
      "Score: 0.019999999552965164\t \n",
      "Topic: 0.036*\"govern\" + 0.022*\"test\" + 0.018*\"rural\" + 0.015*\"break\" + 0.012*\"news\" + 0.011*\"school\" + 0.011*\"violenc\" + 0.010*\"busi\" + 0.010*\"say\" + 0.009*\"worker\"\n"
     ]
    }
   ],
   "source": [
    "for index, score in sorted(lda_model[bow_corpus[4310]], key=lambda tup: -1*tup[1]):\n",
    "    print(\"\\nScore: {}\\t \\nTopic: {}\".format(score, lda_model.print_topic(index, 10)))"
   ]
  },
  {
   "cell_type": "code",
   "execution_count": 50,
   "metadata": {},
   "outputs": [
    {
     "name": "stdout",
     "output_type": "stream",
     "text": [
      "\n",
      "Score: 0.5827919244766235\t \n",
      "Topic: 0.024*\"countri\" + 0.022*\"hour\" + 0.011*\"turnbul\" + 0.008*\"north\" + 0.008*\"sport\" + 0.007*\"korea\" + 0.007*\"david\" + 0.006*\"south\" + 0.006*\"august\" + 0.006*\"search\"\n",
      "\n",
      "Score: 0.2571772336959839\t \n",
      "Topic: 0.010*\"final\" + 0.009*\"world\" + 0.009*\"leagu\" + 0.008*\"australia\" + 0.006*\"test\" + 0.006*\"beat\" + 0.006*\"open\" + 0.005*\"rugbi\" + 0.005*\"cricket\" + 0.005*\"win\"\n",
      "\n",
      "Score: 0.02000575140118599\t \n",
      "Topic: 0.009*\"farm\" + 0.007*\"marriag\" + 0.006*\"octob\" + 0.006*\"hobart\" + 0.006*\"peter\" + 0.006*\"thursday\" + 0.005*\"april\" + 0.005*\"wrap\" + 0.005*\"social\" + 0.004*\"wind\"\n",
      "\n",
      "Score: 0.020005209371447563\t \n",
      "Topic: 0.014*\"polic\" + 0.013*\"crash\" + 0.012*\"kill\" + 0.010*\"woman\" + 0.009*\"death\" + 0.009*\"shoot\" + 0.008*\"dead\" + 0.008*\"drum\" + 0.008*\"charg\" + 0.008*\"attack\"\n",
      "\n",
      "Score: 0.020004048943519592\t \n",
      "Topic: 0.010*\"rural\" + 0.010*\"govern\" + 0.007*\"elect\" + 0.006*\"fund\" + 0.006*\"nation\" + 0.006*\"budget\" + 0.006*\"plan\" + 0.005*\"queensland\" + 0.005*\"labor\" + 0.005*\"council\"\n",
      "\n",
      "Score: 0.020003994926810265\t \n",
      "Topic: 0.014*\"interview\" + 0.014*\"market\" + 0.014*\"news\" + 0.009*\"share\" + 0.007*\"plead\" + 0.006*\"mother\" + 0.006*\"novemb\" + 0.006*\"price\" + 0.006*\"sexual\" + 0.006*\"cattl\"\n",
      "\n",
      "Score: 0.02000398375093937\t \n",
      "Topic: 0.012*\"weather\" + 0.008*\"friday\" + 0.006*\"june\" + 0.005*\"bash\" + 0.005*\"syrian\" + 0.005*\"memori\" + 0.005*\"harvest\" + 0.005*\"billion\" + 0.004*\"mount\" + 0.004*\"run\"\n",
      "\n",
      "Score: 0.020002812147140503\t \n",
      "Topic: 0.010*\"royal\" + 0.007*\"christma\" + 0.007*\"juli\" + 0.007*\"commiss\" + 0.006*\"toni\" + 0.006*\"michael\" + 0.005*\"care\" + 0.005*\"updat\" + 0.004*\"breakfast\" + 0.004*\"age\"\n",
      "\n",
      "Score: 0.020002592355012894\t \n",
      "Topic: 0.010*\"grandstand\" + 0.007*\"tuesday\" + 0.006*\"dollar\" + 0.005*\"million\" + 0.005*\"blog\" + 0.005*\"say\" + 0.005*\"live\" + 0.005*\"station\" + 0.005*\"footag\" + 0.005*\"dump\"\n",
      "\n",
      "Score: 0.020002424716949463\t \n",
      "Topic: 0.019*\"trump\" + 0.010*\"court\" + 0.010*\"podcast\" + 0.009*\"charg\" + 0.009*\"donald\" + 0.008*\"drug\" + 0.007*\"murder\" + 0.007*\"child\" + 0.007*\"stab\" + 0.006*\"alleg\"\n"
     ]
    }
   ],
   "source": [
    "for index, score in sorted(lda_model_tfidf[bow_corpus[4310]], key=lambda tup: -1*tup[1]):\n",
    "    print(\"\\nScore: {}\\t \\nTopic: {}\".format(score, lda_model_tfidf.print_topic(index, 10)))"
   ]
  },
  {
   "cell_type": "code",
   "execution_count": 53,
   "metadata": {},
   "outputs": [],
   "source": [
    "unseen_document = 'How a Pentagon deal became an identity crisis for Google'\n",
    "bow_vector = dictionary.doc2bow(preprocess(unseen_document))"
   ]
  },
  {
   "cell_type": "code",
   "execution_count": 54,
   "metadata": {},
   "outputs": [
    {
     "name": "stdout",
     "output_type": "stream",
     "text": [
      "Score: 0.28732940554618835\t Topic: 0.028*\"elect\" + 0.019*\"say\" + 0.018*\"death\" + 0.016*\"hospit\" + 0.015*\"tasmanian\"\n",
      "Score: 0.2459985613822937\t Topic: 0.019*\"nation\" + 0.018*\"coast\" + 0.016*\"help\" + 0.016*\"countri\" + 0.015*\"state\"\n",
      "Score: 0.18333333730697632\t Topic: 0.020*\"canberra\" + 0.018*\"market\" + 0.014*\"rise\" + 0.014*\"west\" + 0.014*\"turnbul\"\n",
      "Score: 0.18333333730697632\t Topic: 0.063*\"polic\" + 0.023*\"crash\" + 0.019*\"interview\" + 0.018*\"miss\" + 0.018*\"shoot\"\n",
      "Score: 0.01667201705276966\t Topic: 0.037*\"trump\" + 0.032*\"australian\" + 0.019*\"queensland\" + 0.014*\"leav\" + 0.014*\"australia\"\n",
      "Score: 0.01666666567325592\t Topic: 0.029*\"charg\" + 0.028*\"court\" + 0.021*\"murder\" + 0.018*\"woman\" + 0.018*\"face\"\n",
      "Score: 0.01666666567325592\t Topic: 0.035*\"australia\" + 0.022*\"melbourn\" + 0.021*\"world\" + 0.017*\"open\" + 0.014*\"final\"\n",
      "Score: 0.01666666567325592\t Topic: 0.026*\"south\" + 0.025*\"kill\" + 0.015*\"island\" + 0.013*\"fall\" + 0.011*\"attack\"\n",
      "Score: 0.01666666567325592\t Topic: 0.019*\"council\" + 0.015*\"power\" + 0.013*\"farmer\" + 0.011*\"guilti\" + 0.010*\"christma\"\n",
      "Score: 0.01666666567325592\t Topic: 0.036*\"govern\" + 0.022*\"test\" + 0.018*\"rural\" + 0.015*\"break\" + 0.012*\"news\"\n"
     ]
    }
   ],
   "source": [
    "for index, score in sorted(lda_model[bow_vector], key=lambda tup: -1*tup[1]):\n",
    "    print(\"Score: {}\\t Topic: {}\".format(score, lda_model.print_topic(index, 5)))"
   ]
  },
  {
   "cell_type": "code",
   "execution_count": 55,
   "metadata": {},
   "outputs": [
    {
     "name": "stdout",
     "output_type": "stream",
     "text": [
      "Score: 0.6298670172691345\t Topic: 0.029*\"charg\" + 0.028*\"court\" + 0.021*\"murder\" + 0.018*\"woman\" + 0.018*\"face\"\n",
      "Score: 0.23678265511989594\t Topic: 0.035*\"australia\" + 0.022*\"melbourn\" + 0.021*\"world\" + 0.017*\"open\" + 0.014*\"final\"\n",
      "Score: 0.016674475744366646\t Topic: 0.063*\"polic\" + 0.023*\"crash\" + 0.019*\"interview\" + 0.018*\"miss\" + 0.018*\"shoot\"\n",
      "Score: 0.016669554635882378\t Topic: 0.020*\"canberra\" + 0.018*\"market\" + 0.014*\"rise\" + 0.014*\"west\" + 0.014*\"turnbul\"\n",
      "Score: 0.016669029369950294\t Topic: 0.036*\"govern\" + 0.022*\"test\" + 0.018*\"rural\" + 0.015*\"break\" + 0.012*\"news\"\n",
      "Score: 0.016667934134602547\t Topic: 0.037*\"trump\" + 0.032*\"australian\" + 0.019*\"queensland\" + 0.014*\"leav\" + 0.014*\"australia\"\n",
      "Score: 0.016667531803250313\t Topic: 0.019*\"council\" + 0.015*\"power\" + 0.013*\"farmer\" + 0.011*\"guilti\" + 0.010*\"christma\"\n",
      "Score: 0.01666751690208912\t Topic: 0.026*\"south\" + 0.025*\"kill\" + 0.015*\"island\" + 0.013*\"fall\" + 0.011*\"attack\"\n",
      "Score: 0.01666744239628315\t Topic: 0.019*\"nation\" + 0.018*\"coast\" + 0.016*\"help\" + 0.016*\"countri\" + 0.015*\"state\"\n",
      "Score: 0.016666853800415993\t Topic: 0.028*\"elect\" + 0.019*\"say\" + 0.018*\"death\" + 0.016*\"hospit\" + 0.015*\"tasmanian\"\n"
     ]
    }
   ],
   "source": [
    "for index, score in sorted(lda_model_tfidf[bow_vector], key=lambda tup: -1*tup[1]):\n",
    "    print(\"Score: {}\\t Topic: {}\".format(score, lda_model.print_topic(index, 5)))"
   ]
  },
  {
   "cell_type": "code",
   "execution_count": null,
   "metadata": {},
   "outputs": [],
   "source": []
  }
 ],
 "metadata": {
  "kernelspec": {
   "display_name": "Python 3",
   "language": "python",
   "name": "python3"
  },
  "language_info": {
   "codemirror_mode": {
    "name": "ipython",
    "version": 3
   },
   "file_extension": ".py",
   "mimetype": "text/x-python",
   "name": "python",
   "nbconvert_exporter": "python",
   "pygments_lexer": "ipython3",
   "version": "3.6.5"
  }
 },
 "nbformat": 4,
 "nbformat_minor": 2
}
